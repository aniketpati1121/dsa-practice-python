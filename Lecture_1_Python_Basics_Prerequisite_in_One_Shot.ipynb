{
  "cells": [
    {
      "cell_type": "code",
      "execution_count": null,
      "metadata": {
        "colab": {
          "base_uri": "https://localhost:8080/"
        },
        "id": "Zy0qrrG7vbfa",
        "outputId": "09c16b54-2b7d-44e4-c54d-69446bffdb0f"
      },
      "outputs": [
        {
          "name": "stdout",
          "output_type": "stream",
          "text": [
            "Hello World\n"
          ]
        }
      ],
      "source": [
        "print(\"Hello World\")"
      ]
    },
    {
      "cell_type": "code",
      "execution_count": null,
      "metadata": {
        "colab": {
          "base_uri": "https://localhost:8080/"
        },
        "id": "0rC8HOAr1MNK",
        "outputId": "074635f3-d8cc-4566-e96c-e88fdb9fd8cf"
      },
      "outputs": [
        {
          "name": "stdout",
          "output_type": "stream",
          "text": [
            "75.5\n"
          ]
        }
      ],
      "source": [
        "# this program finds the\n",
        "# average attendance of\n",
        "# monday and tuesday\n",
        "\n",
        "\"\"\"this program finds the\n",
        "average attendance of\n",
        "monday and tuesday\"\"\"\n",
        "\n",
        "monday = 87 # attendance of monday\n",
        "tuesday = 64 # attendance of tuesday\n",
        "\n",
        "avg = (monday+tuesday)/2\n",
        "\n",
        "print(avg)"
      ]
    },
    {
      "cell_type": "code",
      "execution_count": null,
      "metadata": {
        "colab": {
          "base_uri": "https://localhost:8080/"
        },
        "id": "E92ZzCRc1g4w",
        "outputId": "26e1a8f4-d472-4e79-9bce-08c4bb6350fb"
      },
      "outputs": [
        {
          "name": "stdout",
          "output_type": "stream",
          "text": [
            "Abhinav\n",
            "Awasthi\n"
          ]
        }
      ],
      "source": [
        "# Python identifiers\n",
        "# Identifiers are names given to variables, functions, classes, etc.\n",
        "# They can contain letters, digits, and underscores.\n",
        "# They cannot start with a digit and cannot contain special characters.\n",
        "# Valid identifiers:\n",
        "\n",
        "name_10 = \"abhinav\" #valid\n",
        "_name = \"abhinav\" #valid\n",
        "name10 = \"abhinav\" #valid\n",
        "age1 = 100 #valid\n",
        "\n",
        "_address = \"bangalore\" # Invalid identifiers:\n",
        "address = \"bangalore\" # 1address = \"bangalore\" #invalid, starts with a digit\n",
        "\n",
        "name = \"Abhinav\"\n",
        "Name = \"Awasthi\"\n",
        "\n",
        "print(name)\n",
        "print(Name)"
      ]
    },
    {
      "cell_type": "code",
      "execution_count": null,
      "metadata": {
        "colab": {
          "base_uri": "https://localhost:8080/"
        },
        "id": "4Ts-wOrX3MZQ",
        "outputId": "0852cf5e-b745-4771-f5f1-cc966bb5362a"
      },
      "outputs": [
        {
          "name": "stdout",
          "output_type": "stream",
          "text": [
            "hello\n"
          ]
        }
      ],
      "source": [
        "wjhefiuqewhkir34758rigfehiuwkhfiwe = \"hello\"\n",
        "print(wjhefiuqewhkir34758rigfehiuwkhfiwe)"
      ]
    },
    {
      "cell_type": "code",
      "execution_count": null,
      "metadata": {
        "colab": {
          "base_uri": "https://localhost:8080/"
        },
        "id": "StL-pJHW3XUC",
        "outputId": "8fd83f52-e8bd-47f1-9c48-075404038868"
      },
      "outputs": [
        {
          "name": "stdout",
          "output_type": "stream",
          "text": [
            "358\n",
            "-290\n",
            "11016\n",
            "11.333333333333334\n",
            "11\n",
            "1\n",
            "8\n"
          ]
        }
      ],
      "source": [
        "print(34+324)\n",
        "print(34-324)\n",
        "print(34*324)\n",
        "print(34/3)\n",
        "print(34//3)\n",
        "print(34%3)\n",
        "print(2**3)"
      ]
    },
    {
      "cell_type": "code",
      "execution_count": null,
      "metadata": {
        "colab": {
          "base_uri": "https://localhost:8080/"
        },
        "id": "9OtdVwPS4YeS",
        "outputId": "825755bb-5eb7-4346-a0e5-286d8fab472a"
      },
      "outputs": [
        {
          "name": "stdout",
          "output_type": "stream",
          "text": [
            "21\n"
          ]
        }
      ],
      "source": [
        "a = 5\n",
        "a+=2\n",
        "a*=3\n",
        "\n",
        "print(a)"
      ]
    },
    {
      "cell_type": "code",
      "execution_count": null,
      "metadata": {
        "colab": {
          "base_uri": "https://localhost:8080/"
        },
        "id": "XMG7e9hS4wzy",
        "outputId": "054ae340-1dcc-4790-87ea-45bd0e98059e"
      },
      "outputs": [
        {
          "name": "stdout",
          "output_type": "stream",
          "text": [
            "100 <class 'int'>\n",
            "12.43 <class 'float'>\n",
            "(2+3j) <class 'complex'>\n"
          ]
        }
      ],
      "source": [
        "age = 100\n",
        "height = 12.43\n",
        "c = 2+3j\n",
        "\n",
        "print(age,type(age))\n",
        "print(height,type(height))\n",
        "print(c,type(c))"
      ]
    },
    {
      "cell_type": "code",
      "execution_count": null,
      "metadata": {
        "colab": {
          "base_uri": "https://localhost:8080/"
        },
        "id": "AeFF0QIy5f_6",
        "outputId": "f583cf32-46c0-4ed1-8edf-31497b3b0a8b"
      },
      "outputs": [
        {
          "name": "stdout",
          "output_type": "stream",
          "text": [
            "a <class 'str'>\n",
            "abhinav <class 'str'>\n",
            "my name is abhinav <class 'str'>\n"
          ]
        }
      ],
      "source": [
        "s1 = 'a'\n",
        "s2 = \"abhinav\"\n",
        "s3 = \"my name is abhinav\"\n",
        "\n",
        "print(s1,type(s1))\n",
        "print(s2,type(s2))\n",
        "print(s3,type(s3))"
      ]
    },
    {
      "cell_type": "code",
      "execution_count": null,
      "metadata": {
        "colab": {
          "base_uri": "https://localhost:8080/"
        },
        "id": "XQQEXLIQ6BgU",
        "outputId": "0d314ed6-d296-4f6f-8787-41579a9601d5"
      },
      "outputs": [
        {
          "name": "stdout",
          "output_type": "stream",
          "text": [
            "False <class 'bool'>\n",
            "True <class 'bool'>\n"
          ]
        }
      ],
      "source": [
        "isMarried = False\n",
        "isGraduated = True\n",
        "\n",
        "print(isMarried,type(isMarried))\n",
        "print(isGraduated,type(isGraduated))"
      ]
    },
    {
      "cell_type": "code",
      "execution_count": null,
      "metadata": {
        "colab": {
          "base_uri": "https://localhost:8080/"
        },
        "id": "2gSqbgpV6ZQZ",
        "outputId": "a0d6fcfe-dce8-42f8-ee53-dfcd13a4a2fa"
      },
      "outputs": [
        {
          "name": "stdout",
          "output_type": "stream",
          "text": [
            "None <class 'NoneType'>\n",
            "24231\n"
          ]
        }
      ],
      "source": [
        "name = None\n",
        "\n",
        "print(name,type(name))\n",
        "\n",
        "s = \"24231\"\n",
        "print(int(s))"
      ]
    },
    {
      "cell_type": "code",
      "execution_count": null,
      "metadata": {
        "colab": {
          "base_uri": "https://localhost:8080/"
        },
        "id": "pke2oXWr6lOI",
        "outputId": "ae24f061-833c-481b-f339-815b608c5f04"
      },
      "outputs": [
        {
          "name": "stdout",
          "output_type": "stream",
          "text": [
            "Enter your first name: Abhinav\n",
            "Enter your last name: Awasthi\n",
            "Abhinav Awasthi\n"
          ]
        }
      ],
      "source": [
        "first_name = input(\"Enter your first name: \")\n",
        "last_name = input(\"Enter your last name: \")\n",
        "\n",
        "print(first_name,last_name)"
      ]
    },
    {
      "cell_type": "code",
      "execution_count": null,
      "metadata": {
        "colab": {
          "base_uri": "https://localhost:8080/"
        },
        "id": "aWPPhE6-65LJ",
        "outputId": "8f2f2f35-2c72-4f88-b0d6-d48787c34ff7"
      },
      "outputs": [
        {
          "name": "stdout",
          "output_type": "stream",
          "text": [
            "21435\n",
            "3124.2345\n",
            "21435 3124.2345\n"
          ]
        }
      ],
      "source": [
        "age = int(input())\n",
        "height = float(input())\n",
        "\n",
        "print(age,height)"
      ]
    },
    {
      "cell_type": "code",
      "execution_count": null,
      "metadata": {
        "colab": {
          "base_uri": "https://localhost:8080/"
        },
        "id": "LTg5yqzp7eGa",
        "outputId": "c54f101c-63e7-4fcb-f54d-a901c163e640"
      },
      "outputs": [
        {
          "name": "stdout",
          "output_type": "stream",
          "text": [
            "abhinav awasthi&&100\n",
            "bangalore\n",
            "abhinav awasthi-100-bangalore\n"
          ]
        }
      ],
      "source": [
        "full_name = \"abhinav awasthi\"\n",
        "age = 100\n",
        "address = \"bangalore\"\n",
        "\n",
        "print(full_name,end = \"&&\")\n",
        "print(age)\n",
        "print(address)\n",
        "\n",
        "print(full_name,age,address,sep=\"-\")"
      ]
    },
    {
      "cell_type": "code",
      "execution_count": null,
      "metadata": {
        "colab": {
          "base_uri": "https://localhost:8080/"
        },
        "id": "LqpbF2UK7sib",
        "outputId": "caf146a3-9aee-4de9-e8a9-eddb16913e05"
      },
      "outputs": [
        {
          "name": "stdout",
          "output_type": "stream",
          "text": [
            "25\n",
            "FAIL\n",
            "Not Eligible for Driving License\n"
          ]
        }
      ],
      "source": [
        "# take input of age and on the basis of age print eligible or not eligible for driving license\n",
        "\n",
        "age = int(input())\n",
        "\n",
        "if(age>=18):\n",
        "  test = input()\n",
        "  if test==\"PASS\":\n",
        "    print(\"Eligible for Driving License\")\n",
        "  else:\n",
        "    print(\"Not Eligible for Driving License\")\n",
        "else:\n",
        "  print(\"Not Eligible for Driving License\")"
      ]
    },
    {
      "cell_type": "code",
      "execution_count": null,
      "metadata": {
        "colab": {
          "base_uri": "https://localhost:8080/"
        },
        "id": "pYCfxb-U8f9H",
        "outputId": "0300ae03-b9d2-4f57-d1e4-8ce1928a51c5"
      },
      "outputs": [
        {
          "name": "stdout",
          "output_type": "stream",
          "text": [
            "34\n",
            "Bad\n"
          ]
        }
      ],
      "source": [
        "marks = int(input())\n",
        "\n",
        "# >=90 Excellent\n",
        "# 70-90 Good\n",
        "# 40-70 Fair\n",
        "# <40 Bad\n",
        "\n",
        "if marks>=90:\n",
        "  print(\"Excellent\")\n",
        "elif marks>=70:\n",
        "  print(\"Good\")\n",
        "elif marks>=40:\n",
        "  print(\"Fair\")\n",
        "else:\n",
        "  print(\"Bad\")"
      ]
    },
    {
      "cell_type": "code",
      "execution_count": null,
      "metadata": {
        "colab": {
          "base_uri": "https://localhost:8080/"
        },
        "id": "OmvWk0Dy9Fm4",
        "outputId": "1e279114-6011-4f55-fd6c-2b72e91d7dad"
      },
      "outputs": [
        {
          "name": "stdout",
          "output_type": "stream",
          "text": [
            "12\n",
            "Cold\n"
          ]
        }
      ],
      "source": [
        "temp = int(input())\n",
        "\n",
        "# 25-50->  Hot\n",
        "# 10-24-> Cold\n",
        "# <10 -> Extremely Cold\n",
        "\n",
        "if 25<=temp<=50:\n",
        "  print(\"Hot\")\n",
        "elif 10<=temp<=24:\n",
        "  print(\"Cold\")\n",
        "elif temp<10:\n",
        "  print(\"Extremely Cold\")"
      ]
    },
    {
      "cell_type": "code",
      "execution_count": null,
      "metadata": {
        "colab": {
          "base_uri": "https://localhost:8080/"
        },
        "id": "HxizC4bw9eq5",
        "outputId": "d1f805a3-305a-4175-92cf-0a3dfe85ea4e"
      },
      "outputs": [
        {
          "name": "stdout",
          "output_type": "stream",
          "text": [
            "23\n",
            "Eligible\n"
          ]
        }
      ],
      "source": [
        "# Ternary Operator\n",
        "\n",
        "age = int(input())\n",
        "\n",
        "result = \"Eligible\" if age>=18 else \"Not Eligible\"\n",
        "\n",
        "print(result)"
      ]
    },
    {
      "cell_type": "code",
      "execution_count": null,
      "metadata": {
        "colab": {
          "base_uri": "https://localhost:8080/"
        },
        "id": "Fomcs3A197SD",
        "outputId": "7653bf6a-82d4-47da-f859-2316917a6d8e"
      },
      "outputs": [
        {
          "name": "stdout",
          "output_type": "stream",
          "text": [
            "0 1 2 3 4 "
          ]
        }
      ],
      "source": [
        "i = 0\n",
        "\n",
        "while i<5:\n",
        "  print(i,end=\" \")\n",
        "  i+=1"
      ]
    },
    {
      "cell_type": "code",
      "execution_count": null,
      "metadata": {
        "colab": {
          "base_uri": "https://localhost:8080/"
        },
        "id": "pDlhVk1q-Wcn",
        "outputId": "66d631af-3bac-42b1-9edd-3f3f66834914"
      },
      "outputs": [
        {
          "name": "stdout",
          "output_type": "stream",
          "text": [
            "3 3 5 2 1 "
          ]
        }
      ],
      "source": [
        "list1 = [3,3,5,2,1]\n",
        "\n",
        "for i in list1:\n",
        "  print(i,end=\" \")"
      ]
    },
    {
      "cell_type": "code",
      "execution_count": null,
      "metadata": {
        "colab": {
          "base_uri": "https://localhost:8080/"
        },
        "id": "ZR05QoOX-oEp",
        "outputId": "8392c5fd-5a92-4651-aa76-689401fe630e"
      },
      "outputs": [
        {
          "name": "stdout",
          "output_type": "stream",
          "text": [
            "1 2 3 4 5 6 7 8 9 10 \n",
            "5 6 7 8 9 10 \n",
            "1 3 5 7 9 \n",
            "20 19 18 17 16 15 14 13 12 11 10 9 8 7 6 5 4 3 2 1 \n",
            "20 17 14 11 8 5 2 \n"
          ]
        }
      ],
      "source": [
        "for i in range(1,11):\n",
        "  print(i,end=\" \")\n",
        "print()\n",
        "\n",
        "for i in range(5,11):\n",
        "  print(i,end=\" \")\n",
        "print()\n",
        "\n",
        "for i in range(1,11,2):\n",
        "  print(i,end=\" \")\n",
        "print()\n",
        "\n",
        "for i in range(20,0,-1):\n",
        "  print(i,end=\" \")\n",
        "print()\n",
        "\n",
        "for i in range(20,0,-3):\n",
        "  print(i,end=\" \")\n",
        "print()"
      ]
    },
    {
      "cell_type": "code",
      "execution_count": null,
      "metadata": {
        "colab": {
          "base_uri": "https://localhost:8080/"
        },
        "id": "Jj2vpEmV-4PH",
        "outputId": "c5528f6e-74e2-4db8-8caa-a229e679aab9"
      },
      "outputs": [
        {
          "name": "stdout",
          "output_type": "stream",
          "text": [
            "Abhinav Awasthi\n"
          ]
        }
      ],
      "source": [
        "def printName(name):\n",
        "  print(name)\n",
        "\n",
        "printName(\"Abhinav Awasthi\")"
      ]
    },
    {
      "cell_type": "code",
      "execution_count": null,
      "metadata": {
        "colab": {
          "base_uri": "https://localhost:8080/"
        },
        "id": "F1yBB7n6_hq3",
        "outputId": "fab926fc-a2cd-4f1a-bde1-7aa969006666"
      },
      "outputs": [
        {
          "name": "stdout",
          "output_type": "stream",
          "text": [
            "11\n"
          ]
        }
      ],
      "source": [
        "def addTwoNumbers(a,b):\n",
        "  sum = a+b\n",
        "  return sum\n",
        "\n",
        "ans = addTwoNumbers(4,7)\n",
        "print(ans)"
      ]
    },
    {
      "cell_type": "code",
      "execution_count": null,
      "metadata": {
        "colab": {
          "base_uri": "https://localhost:8080/"
        },
        "id": "WWXKzf26_qmt",
        "outputId": "d5d5680f-9bd7-4a4c-d9d7-611cca921b0b"
      },
      "outputs": [
        {
          "name": "stdout",
          "output_type": "stream",
          "text": [
            "3 8 1 5 "
          ]
        }
      ],
      "source": [
        "n = 5183\n",
        "\n",
        "while n>0:\n",
        "  r = n%10\n",
        "  print(r,end=\" \")\n",
        "  n//=10"
      ]
    },
    {
      "cell_type": "code",
      "execution_count": null,
      "metadata": {
        "colab": {
          "base_uri": "https://localhost:8080/"
        },
        "id": "wwnNYj-xM96p",
        "outputId": "0f37419f-7f8d-422a-8a58-ef4341ebe805"
      },
      "outputs": [
        {
          "name": "stdout",
          "output_type": "stream",
          "text": [
            "17\n"
          ]
        }
      ],
      "source": [
        "n = 5183\n",
        "sum = 0\n",
        "\n",
        "while n>0:\n",
        "  r = n%10\n",
        "  sum+=r\n",
        "  n//=10\n",
        "\n",
        "print(sum)"
      ]
    },
    {
      "cell_type": "code",
      "execution_count": null,
      "metadata": {
        "id": "qFAVBRfBNVZE"
      },
      "outputs": [],
      "source": []
    }
  ],
  "metadata": {
    "colab": {
      "provenance": []
    },
    "kernelspec": {
      "display_name": "Python 3",
      "name": "python3"
    },
    "language_info": {
      "name": "python"
    }
  },
  "nbformat": 4,
  "nbformat_minor": 0
}
